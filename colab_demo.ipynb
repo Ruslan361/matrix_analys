{
 "cells": [
  {
   "cell_type": "code",
   "execution_count": null,
   "id": "97f47bc9",
   "metadata": {},
   "outputs": [],
   "source": [
    "# Check if running in Google Colab\n",
    "import sys\n",
    "import os\n",
    "IN_COLAB = 'google.colab' in sys.modules\n",
    "\n",
    "if IN_COLAB:\n",
    "    print(\"Running in Google Colab. Installing the matrix_analysis package...\")\n",
    "    # Install the package directly from GitHub\n",
    "    !pip install git+https://github.com/your_username/matrix_analysis.git\n",
    "else:\n",
    "    print(\"Running locally. Setting up paths...\")\n",
    "    # Helper function to find the matrix_analysis module\n",
    "    def find_module_path():\n",
    "        # Try different potential locations for the module\n",
    "        potential_paths = [\n",
    "            # Current directory\n",
    "            os.path.abspath(os.path.dirname('__file__')),\n",
    "            # 'matrix_analysis' subdirectory\n",
    "            os.path.abspath(os.path.join(os.path.dirname('__file__'), 'matrix_analysis')),\n",
    "            # Parent directory\n",
    "            os.path.abspath(os.path.join(os.path.dirname('__file__'), '..')),\n",
    "        ]\n",
    "        \n",
    "        # Check each path for the module files\n",
    "        for path in potential_paths:\n",
    "            module_check_file = os.path.join(path, 'matrix_analysis', 'build_L_matrix.py')\n",
    "            direct_check_file = os.path.join(path, 'build_L_matrix.py')\n",
    "            \n",
    "            # Add path if it contains the module\n",
    "            if os.path.exists(module_check_file) and path not in sys.path:\n",
    "                print(f\"Found matrix_analysis module at: {path}\")\n",
    "                sys.path.append(path)\n",
    "                return True\n",
    "            # For direct imports\n",
    "            elif os.path.exists(direct_check_file) and path not in sys.path:\n",
    "                print(f\"Found individual modules at: {path}\")\n",
    "                sys.path.append(path)\n",
    "                return True\n",
    "        \n",
    "        print(\"WARNING: Couldn't find the module in the standard locations.\")\n",
    "        return False\n",
    "    \n",
    "    find_module_path()\n",
    "\n",
    "# Importing necessary libraries\n",
    "import numpy as np\n",
    "import matplotlib.pyplot as plt\n",
    "from IPython.display import display, Markdown\n",
    "\n",
    "# Import our matrix analysis functions with fallback options\n",
    "try:\n",
    "    # Preferred import method\n",
    "    from matrix_analysis.build_L_matrix import build_L_matrix\n",
    "    from matrix_analysis.visualize_matrix import visualize_matrix\n",
    "    from matrix_analysis.visualize_eigenvalues import visualize_eigenvalues\n",
    "    from matrix_analysis.compute_matrix_rank import compute_matrix_rank\n",
    "    from matrix_analysis.create_custom_colormap import create_custom_colormap\n",
    "    print(\"Successfully imported from matrix_analysis package\")\n",
    "except ImportError:\n",
    "    try:\n",
    "        # Direct imports for local development\n",
    "        from build_L_matrix import build_L_matrix\n",
    "        from visualize_matrix import visualize_matrix\n",
    "        from visualize_eigenvalues import visualize_eigenvalues\n",
    "        from compute_matrix_rank import compute_matrix_rank\n",
    "        from create_custom_colormap import create_custom_colormap\n",
    "        print(\"Successfully imported modules directly\")\n",
    "    except ImportError:\n",
    "        print(\"ERROR: Could not import the required modules.\")\n",
    "        print(\"Please ensure the matrix_analysis package is installed or in your Python path.\")\n",
    "\n",
    "# Display welcome message\n",
    "display(Markdown('**Matrix Analysis Toolkit loaded!** We are ready to analyze matrices.'))"
   ]
  },
  {
   "cell_type": "markdown",
   "id": "a278125d",
   "metadata": {},
   "source": [
    "## Matrix Parameters\n",
    "\n",
    "You can adjust these parameters to experiment with different matrix configurations:"
   ]
  },
  {
   "cell_type": "code",
   "execution_count": null,
   "id": "39b209ce",
   "metadata": {},
   "outputs": [],
   "source": [
    "# Matrix parameters - feel free to change these values\n",
    "n_1 = 1\n",
    "n1 = 2\n",
    "n2 = 3\n",
    "n3 = 4\n",
    "n4 = 5\n",
    "\n",
    "print(f\"Matrix parameters: n_1={n_1}, n1={n1}, n2={n2}, n3={n3}, n4={n4}\")"
   ]
  },
  {
   "cell_type": "markdown",
   "id": "326e9341",
   "metadata": {},
   "source": [
    "## Build and Visualize L Matrix\n",
    "\n",
    "Now we'll build the L matrix and visualize it:"
   ]
  },
  {
   "cell_type": "code",
   "execution_count": null,
   "id": "79acb135",
   "metadata": {},
   "outputs": [],
   "source": [
    "# Build the L matrix\n",
    "L, block_coords = build_L_matrix(n_1, n1, n2, n3, n4)\n",
    "print(f\"L matrix shape: {L.shape[0]}×{L.shape[1]}\")\n",
    "\n",
    "# Visualize the L matrix\n",
    "plt.figure(figsize=(10, 10))\n",
    "plt.imshow(L, cmap=create_custom_colormap())\n",
    "plt.colorbar()\n",
    "plt.title('L Matrix')\n",
    "plt.tight_layout()\n",
    "plt.show()"
   ]
  },
  {
   "cell_type": "markdown",
   "id": "757cd863",
   "metadata": {},
   "source": [
    "## Calculate and Visualize L*L^T\n",
    "\n",
    "Computing L*L^T is an important step in matrix analysis:"
   ]
  },
  {
   "cell_type": "code",
   "execution_count": null,
   "id": "fff28a2b",
   "metadata": {},
   "outputs": [],
   "source": [
    "# Calculate L*L^T\n",
    "Lt = L.T\n",
    "L_LT = L @ Lt\n",
    "print(f\"L*L^T matrix shape: {L_LT.shape[0]}×{L_LT.shape[1]}\")\n",
    "\n",
    "# Visualize L*L^T\n",
    "plt.figure(figsize=(10, 10))\n",
    "visual = visualize_matrix(L_LT, 'L*L^T Matrix', create_custom_colormap)\n",
    "plt.show()"
   ]
  },
  {
   "cell_type": "markdown",
   "id": "cd9c7638",
   "metadata": {},
   "source": [
    "## Eigenvalue Analysis\n",
    "\n",
    "Eigenvalues tell us important information about the matrix properties:"
   ]
  },
  {
   "cell_type": "code",
   "execution_count": null,
   "id": "f3dc1726",
   "metadata": {},
   "outputs": [],
   "source": [
    "# Calculate eigenvalues\n",
    "eigenvalues, _ = np.linalg.eig(L_LT)\n",
    "\n",
    "# Sort eigenvalues in descending order\n",
    "sorted_eigenvalues = np.sort(eigenvalues)[::-1]\n",
    "\n",
    "# Display top eigenvalues\n",
    "print(\"Top 10 eigenvalues:\")\n",
    "for i, val in enumerate(sorted_eigenvalues[:10]):\n",
    "    print(f\"  λ{i+1} = {val:.15g}\")\n",
    "\n",
    "# Visualize eigenvalues \n",
    "# The visualize_eigenvalues function creates its own figure\n",
    "visual = visualize_eigenvalues(sorted_eigenvalues, 'Eigenvalues of L*L^T')\n",
    "# No need for additional plt.tight_layout() or plt.show() as they're handled by the function"
   ]
  },
  {
   "cell_type": "markdown",
   "id": "744dca8c",
   "metadata": {},
   "source": [
    "## Matrix Rank\n",
    "\n",
    "The rank of a matrix tells us about its linear independence properties:"
   ]
  },
  {
   "cell_type": "code",
   "execution_count": null,
   "id": "1b015fbc",
   "metadata": {},
   "outputs": [],
   "source": [
    "# Compute matrix ranks\n",
    "matrix_rank_L = compute_matrix_rank(L)\n",
    "matrix_rank_LLT = compute_matrix_rank(L_LT)\n",
    "\n",
    "print(f\"Rank of L matrix: {matrix_rank_L}\")\n",
    "print(f\"Rank of L*L^T matrix: {matrix_rank_LLT}\")\n",
    "print(f\"\\nTheoretical maximum rank: {min(L_LT.shape)}\")"
   ]
  },
  {
   "cell_type": "markdown",
   "id": "eeea4047",
   "metadata": {},
   "source": [
    "## Next Steps\n",
    "\n",
    "This is a simplified demonstration of the Matrix Analysis toolkit. For more advanced features, please check out the complete notebook: [matrix_analysis_notebook.ipynb](https://github.com/your_username/matrix_analysis/blob/main/matrix_analysis_notebook.ipynb).\n",
    "\n",
    "You can also customize this notebook by changing the parameters at the beginning and re-running the cells to see how they affect the matrix properties."
   ]
  },
  {
   "cell_type": "code",
   "execution_count": null,
   "id": "07d95cd4",
   "metadata": {
    "vscode": {
     "languageId": "plaintext"
    }
   },
   "outputs": [],
   "source": [
    "# Matrix Analysis - Quick Demo\n",
    "\n",
    "This is a simplified demonstration of the Matrix Analysis toolkit designed for quick experimentation in Google Colab.\n",
    "\n",
    "[![Open In Colab](https://colab.research.google.com/assets/colab-badge.svg)](https://colab.research.google.com/github/your_username/matrix_analysis/blob/main/colab_demo.ipynb)"
   ]
  },
  {
   "cell_type": "markdown",
   "id": "5c3f8848",
   "metadata": {},
   "source": [
    "## Installation\n",
    "\n",
    "First, we'll install the package directly from GitHub:"
   ]
  }
 ],
 "metadata": {
  "language_info": {
   "name": "python"
  }
 },
 "nbformat": 4,
 "nbformat_minor": 5
}
